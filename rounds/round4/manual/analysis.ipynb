{
 "cells": [
  {
   "cell_type": "code",
   "execution_count": null,
   "metadata": {},
   "outputs": [],
   "source": [
    "briefcases = \n",
    "{\n",
    "    \"A1\": {\"multiplier\": 80, \"inhabitants\": 6},\n",
    "    \"A2\": {\"multiplier\": 50, \"inhabitants\": 4},\n",
    "    \"A3\": {\"multiplier\": 83, \"inhabitants\": 7},\n",
    "    \"A4\": {\"multiplier\": 31, \"inhabitants\": 2},\n",
    "    \"A5\": {\"multiplier\": 60, \"inhabitants\": 4},\n",
    "    \"B1\": {\"multiplier\": 89, \"inhabitants\": 8},\n",
    "    \"B2\": {\"multiplier\": 10, \"inhabitants\": 1},\n",
    "    \"B3\": {\"multiplier\": 37, \"inhabitants\": 3},\n",
    "    \"B4\": {\"multiplier\": 70, \"inhabitants\": 4},\n",
    "    \"B5\": {\"multiplier\": 90, \"inhabitants\": 10},\n",
    "    \"C1\": {\"multiplier\": 17, \"inhabitants\": 1},\n",
    "    \"C2\": {\"multiplier\": 40, \"inhabitants\": 3},\n",
    "    \"C3\": {\"multiplier\": 73, \"inhabitants\": 4},\n",
    "    \"C4\": {\"multiplier\": 100, \"inhabitants\": 15},\n",
    "    \"C5\": {\"multiplier\": 20, \"inhabitants\": 2},\n",
    "    \"D1\": {\"multiplier\": 41, \"inhabitants\": 3},\n",
    "    \"D2\": {\"multiplier\": 79, \"inhabitants\": 5},\n",
    "    \"D3\": {\"multiplier\": 23, \"inhabitants\": 2},\n",
    "    \"D4\": {\"multiplier\": 47, \"inhabitants\": 3},\n",
    "    \"D5\": {\"multiplier\": 30, \"inhabitants\": 2},    \n",
    "    }"
   ]
  }
 ],
 "metadata": {
  "kernelspec": {
   "display_name": "Python 3",
   "language": "python",
   "name": "python3"
  },
  "language_info": {
   "name": "python",
   "version": "3.12.0"
  }
 },
 "nbformat": 4,
 "nbformat_minor": 2
}
