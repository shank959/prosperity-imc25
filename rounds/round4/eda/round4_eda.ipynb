{
 "cells": [
  {
   "cell_type": "code",
   "execution_count": 1,
   "id": "1dcf1f1e",
   "metadata": {},
   "outputs": [],
   "source": [
    "import numpy as np\n",
    "import matplotlib.pyplot as plt\n",
    "import pandas as pd"
   ]
  },
  {
   "cell_type": "code",
   "execution_count": null,
   "id": "7ff4ea84",
   "metadata": {},
   "outputs": [],
   "source": [
    "day_price_0_df = pd.read_csv(\"./round-3-island-data-bottle/prices_round_3_day_0.csv\", delimiter=\";\")\n",
    "day_price_1_df = pd.read_csv(\"./round-3-island-data-bottle/prices_round_3_day_1.csv\", delimiter=\";\")\n",
    "day_price_2_df = pd.read_csv(\"./round-3-island-data-bottle/prices_round_3_day_2.csv\", delimiter=\";\")\n",
    "\n",
    "# merge all the dataframes\n",
    "merged_df = pd.concat([day_price_0_df, day_price_1_df, day_price_2_df])\n",
    "merged_df[\"continuous_timestamp\"] = merged_df[\"day\"] * 1e6 + merged_df[\"timestamp\"]\n",
    "product_names = [\n",
    "    \"RAINFOREST_RESIN\", \"KELP\", \"SQUID_INK\",\n",
    "    \"CROISSANTS\", \"JAMS\", \"DJEMBES\",\n",
    "    \"PICNIC_BASKET1\", \"PICNIC_BASKET2\",\n",
    "    \"VOLCANIC_ROCK\",\n",
    "    \"VOLCANIC_ROCK_VOUCHER_10500\",\n",
    "    \"VOLCANIC_ROCK_VOUCHER_10250\",\n",
    "    \"VOLCANIC_ROCK_VOUCHER_10000\",\n",
    "    \"VOLCANIC_ROCK_VOUCHER_9750\",\n",
    "    \"VOLCANIC_ROCK_VOUCHER_9500\",\n",
    "]\n",
    "\n",
    "products = {\n",
    "    name: merged_df[merged_df[\"product\"] == name].reset_index(drop=True)\n",
    "    for name in product_names\n",
    "}"
   ]
  }
 ],
 "metadata": {
  "kernelspec": {
   "display_name": "ml",
   "language": "python",
   "name": "python3"
  },
  "language_info": {
   "codemirror_mode": {
    "name": "ipython",
    "version": 3
   },
   "file_extension": ".py",
   "mimetype": "text/x-python",
   "name": "python",
   "nbconvert_exporter": "python",
   "pygments_lexer": "ipython3",
   "version": "3.12.8"
  }
 },
 "nbformat": 4,
 "nbformat_minor": 5
}
