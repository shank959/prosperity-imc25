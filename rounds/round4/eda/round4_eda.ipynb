{
 "cells": [
  {
   "cell_type": "code",
   "execution_count": null,
   "id": "7ff4ea84",
   "metadata": {},
   "outputs": [],
   "source": [
    "import json\n",
    "import pandas as pd\n",
    "from dataclasses import dataclass\n",
    "from typing import List\n",
    "import matplotlib.pyplot as plt\n",
    "\n",
    "@dataclass\n",
    "class Trade:\n",
    "    timestamp: int\n",
    "    buyer: str\n",
    "    seller: str\n",
    "    symbol: str\n",
    "    currency: str\n",
    "    price: float\n",
    "    quantity: int\n",
    "\n",
    "# Read entire log file\n",
    "with open('/Users/vasudev/Desktop/Projects/imc_prosperity/prosperity-imc25/rounds/round3/eda/round3_results/round_3_results.log', 'r') as f:\n",
    "    content = f.read()\n",
    "\n",
    "# --- Parse Sandbox Logs ---\n",
    "sandbox_start = content.find('Sandbox logs:')\n",
    "activities_start = content.find('Activities log:')\n",
    "sandbox_section = content[sandbox_start + len('Sandbox logs:'):activities_start].strip()\n",
    "\n",
    "# Each JSON object is on a new line; wrap in array brackets\n",
    "# sandbox_json = '[' + ','.join(sandbox_section.split('\\n')) + ']'\n",
    "\n",
    "# sandbox_logs = json.loads(sandbox_json)\n",
    "\n",
    "# --- Parse Activities Log ---\n",
    "trades_start = content.find('Trade History:')\n",
    "activities_section = content[activities_start + len('Activities log:'):trades_start].strip()\n",
    "\n",
    "# Read CSV section into a DataFrame\n",
    "from io import StringIO\n",
    "activities_df = pd.read_csv(StringIO(activities_section), sep=';')\n",
    "\n",
    "# --- Parse Trades ---\n",
    "trades_section = content[trades_start + len('Trade History:'):].strip()\n",
    "trades_data = json.loads(trades_section)\n",
    "\n",
    "# Convert to Trade objects\n",
    "trades: List[Trade] = [Trade(**t) for t in trades_data]"
   ]
  }
 ],
 "metadata": {
  "kernelspec": {
   "display_name": "ml",
   "language": "python",
   "name": "python3"
  },
  "language_info": {
   "codemirror_mode": {
    "name": "ipython",
    "version": 3
   },
   "file_extension": ".py",
   "mimetype": "text/x-python",
   "name": "python",
   "nbconvert_exporter": "python",
   "pygments_lexer": "ipython3",
   "version": "3.12.8"
  }
 },
 "nbformat": 4,
 "nbformat_minor": 5
}
