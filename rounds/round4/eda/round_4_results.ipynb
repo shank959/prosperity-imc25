{
 "cells": [
  {
   "cell_type": "code",
   "execution_count": null,
   "id": "09eb45bf",
   "metadata": {},
   "outputs": [],
   "source": [
    "import json\n",
    "import pandas as pd\n",
    "from dataclasses import dataclass\n",
    "from typing import List, Dict\n",
    "import matplotlib.pyplot as plt\n",
    "import math\n",
    "from statistics import NormalDist\n",
    "import numpy as np\n",
    "\n",
    "@dataclass\n",
    "class Trade:\n",
    "    timestamp: int\n",
    "    buyer: str\n",
    "    seller: str\n",
    "    symbol: str\n",
    "    currency: str\n",
    "    price: float\n",
    "    quantity: int"
   ]
  },
  {
   "cell_type": "code",
   "execution_count": null,
   "id": "c7c7edf0",
   "metadata": {},
   "outputs": [],
   "source": [
    "day_price_1_df = pd.read_csv(\"./round-4-island-data-bottle/prices_round_4_day_1.csv\", delimiter=\";\")\n",
    "day_price_2_df = pd.read_csv(\"./round-4-island-data-bottle/prices_round_4_day_2.csv\", delimiter=\";\")\n",
    "day_price_3_df = pd.read_csv(\"./round-4-island-data-bottle/prices_round_4_day_3.csv\", delimiter=\";\")\n",
    "\n",
    "# merge all the dataframes\n",
    "activities_df = pd.concat([day_price_1_df, day_price_2_df, day_price_3_df])\n",
    "activities_df[\"continuous_timestamp\"] = activities_df[\"day\"] * 1e6 + activities_df[\"timestamp\"]\n",
    "activities_df\n",
    "\n",
    "symbols = [\n",
    "    # \"RAINFOREST_RESIN\",\n",
    "    # \"KELP\", \"SQUID_INK\",\n",
    "    # \"CROISSANTS\", \"JAMS\",\n",
    "    # \"DJEMBES\", \"PICNIC_BASKET1\",\n",
    "    # \"PICNIC_BASKET2\",\n",
    "    \"VOLCANIC_ROCK\",\n",
    "    \"VOLCANIC_ROCK_VOUCHER_9500\", \"VOLCANIC_ROCK_VOUCHER_9750\",\n",
    "    \"VOLCANIC_ROCK_VOUCHER_10000\", \"VOLCANIC_ROCK_VOUCHER_10250\",\n",
    "    \"VOLCANIC_ROCK_VOUCHER_10500\"\n",
    "]"
   ]
  }
 ],
 "metadata": {
  "kernelspec": {
   "display_name": "ml",
   "language": "python",
   "name": "python3"
  },
  "language_info": {
   "codemirror_mode": {
    "name": "ipython",
    "version": 3
   },
   "file_extension": ".py",
   "mimetype": "text/x-python",
   "name": "python",
   "nbconvert_exporter": "python",
   "pygments_lexer": "ipython3",
   "version": "3.12.8"
  }
 },
 "nbformat": 4,
 "nbformat_minor": 5
}
