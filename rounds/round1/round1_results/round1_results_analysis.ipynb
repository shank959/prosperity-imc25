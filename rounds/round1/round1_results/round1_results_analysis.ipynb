{
 "cells": [
  {
   "cell_type": "code",
   "execution_count": 8,
   "id": "667ab904",
   "metadata": {},
   "outputs": [],
   "source": [
    "import json\n",
    "import pandas as pd\n",
    "from dataclasses import dataclass\n",
    "from typing import List\n",
    "\n",
    "@dataclass\n",
    "class Trade:\n",
    "    timestamp: int\n",
    "    buyer: str\n",
    "    seller: str\n",
    "    symbol: str\n",
    "    currency: str\n",
    "    price: float\n",
    "    quantity: int\n",
    "\n",
    "# Read entire log file\n",
    "with open('/Users/vasudev/Desktop/Projects/imc_prosperity/prosperity-imc25/rounds/round2/round2_results/e3ea576b-7011-41ef-b9e2-d07f778b99f1_final.log', 'r') as f:\n",
    "    content = f.read()\n",
    "\n",
    "# --- Parse Sandbox Logs ---\n",
    "sandbox_start = content.find('Sandbox logs:')\n",
    "activities_start = content.find('Activities log:')\n",
    "sandbox_section = content[sandbox_start + len('Sandbox logs:'):activities_start].strip()\n",
    "\n",
    "# Each JSON object is on a new line; wrap in array brackets\n",
    "# sandbox_json = '[' + ','.join(sandbox_section.split('\\n')) + ']'\n",
    "\n",
    "# sandbox_logs = json.loads(sandbox_json)\n",
    "\n",
    "# --- Parse Activities Log ---\n",
    "trades_start = content.find('Trade History:')\n",
    "activities_section = content[activities_start + len('Activities log:'):trades_start].strip()\n",
    "\n",
    "# Read CSV section into a DataFrame\n",
    "from io import StringIO\n",
    "activities_df = pd.read_csv(StringIO(activities_section), sep=';')\n",
    "\n",
    "# --- Parse Trades ---\n",
    "trades_section = content[trades_start + len('Trade History:'):].strip()\n",
    "trades_data = json.loads(trades_section)\n",
    "\n",
    "# Convert to Trade objects\n",
    "trades: List[Trade] = [Trade(**t) for t in trades_data]"
   ]
  },
  {
   "cell_type": "code",
   "execution_count": null,
   "id": "9fd44bc1",
   "metadata": {},
   "outputs": [
    {
     "data": {
      "text/plain": [
       "(1391, 1399, 1089, 1397, 0, 0, 212, 189, 168, 149, 56, 51, 52, 51, 127, 164)"
      ]
     },
     "execution_count": 14,
     "metadata": {},
     "output_type": "execute_result"
    }
   ],
   "source": [
    "# day 2 trades\n",
    "rfr_trades = [trade for trade in trades if trade.symbol == 'RAINFOREST_RESIN']\n",
    "kelp_trades = [trade for trade in trades if trade.symbol == 'KELP']\n",
    "squid_ink_trades = [trade for trade in trades if trade.symbol == 'SQUID_INK']\n",
    "croissants_trades = [trade for trade in trades if trade.symbol == 'CROISSANTS']\n",
    "jams_trades = [trade for trade in trades if trade.symbol == 'JAMS']\n",
    "djembes_trades = [trade for trade in trades if trade.symbol == 'DJEMBES']\n",
    "pic1_trades = [trade for trade in trades if trade.symbol == 'PICNIC_BASKET1']\n",
    "pic2_trades = [trade for trade in trades if trade.symbol == 'PICNIC_BASKET2']\n",
    "\n",
    "# our trades\n",
    "rfr_buys = [trade for trade in rfr_trades if trade.buyer == 'SUBMISSION']\n",
    "rfr_sells = [trade for trade in rfr_trades if trade.seller == 'SUBMISSION']\n",
    "\n",
    "kelp_buys = [trade for trade in kelp_trades if trade.buyer == 'SUBMISSION']\n",
    "kelp_sells = [trade for trade in kelp_trades if trade.seller == 'SUBMISSION']\n",
    "\n",
    "squid_ink_buys = [trade for trade in squid_ink_trades if trade.buyer == 'SUBMISSION']\n",
    "squid_ink_sells = [trade for trade in squid_ink_trades if trade.seller == 'SUBMISSION']\n",
    "\n",
    "croissants_buys = [trade for trade in croissants_trades if trade.buyer == 'SUBMISSION']\n",
    "croissants_sells = [trade for trade in croissants_trades if trade.seller == 'SUBMISSION']\n",
    "\n",
    "jams_buys = [trade for trade in jams_trades if trade.buyer == 'SUBMISSION']\n",
    "jams_sells = [trade for trade in jams_trades if trade.seller == 'SUBMISSION']\n",
    "\n",
    "djembes_buys = [trade for trade in djembes_trades if trade.buyer == 'SUBMISSION']\n",
    "djembes_sells = [trade for trade in djembes_trades if trade.seller == 'SUBMISSION']\n",
    "\n",
    "pic1_buys = [trade for trade in pic1_trades if trade.buyer == 'SUBMISSION']\n",
    "pic1_sells = [trade for trade in pic1_trades if trade.seller == 'SUBMISSION']\n",
    "\n",
    "pic2_buys = [trade for trade in pic2_trades if trade.buyer == 'SUBMISSION']\n",
    "pic2_sells = [trade for trade in pic2_trades if trade.seller == 'SUBMISSION']"
   ]
  },
  {
   "cell_type": "code",
   "execution_count": 17,
   "id": "89191941",
   "metadata": {},
   "outputs": [
    {
     "name": "stdout",
     "output_type": "stream",
     "text": [
      "RFR PnL: 537391\n",
      "Kelp PnL: -15403\n",
      "Squid Ink PnL: 0\n",
      "Croissants PnL: -424775\n",
      "Jams PnL: -1811546\n",
      "Djembes PnL: -520330\n",
      "Picnic Basket 1 PnL: -228946\n",
      "Picnic Basket 2 PnL: 3522704\n"
     ]
    }
   ],
   "source": [
    "rfr_pnl = - sum([trade.price * trade.quantity for trade in rfr_buys]) + sum([trade.price * trade.quantity for trade in rfr_sells])\n",
    "print(f\"RFR PnL: {rfr_pnl}\")\n",
    "\n",
    "kelp_pnl = - sum([trade.price * trade.quantity for trade in kelp_buys]) + sum([trade.price * trade.quantity for trade in kelp_sells])\n",
    "print(f\"Kelp PnL: {kelp_pnl}\")\n",
    "\n",
    "squid_ink_pnl = - sum([trade.price * trade.quantity for trade in squid_ink_buys]) + sum([trade.price * trade.quantity for trade in squid_ink_sells])\n",
    "print(f\"Squid Ink PnL: {squid_ink_pnl}\")\n",
    "\n",
    "croissants_pnl = - sum([trade.price * trade.quantity for trade in croissants_buys]) + sum([trade.price * trade.quantity for trade in croissants_sells])\n",
    "print(f\"Croissants PnL: {croissants_pnl}\")\n",
    "\n",
    "jams_pnl = - sum([trade.price * trade.quantity for trade in jams_buys]) + sum([trade.price * trade.quantity for trade in jams_sells])\n",
    "print(f\"Jams PnL: {jams_pnl}\")\n",
    "\n",
    "djembes_pnl = - sum([trade.price * trade.quantity for trade in djembes_buys]) + sum([trade.price * trade.quantity for trade in djembes_sells])\n",
    "print(f\"Djembes PnL: {djembes_pnl}\")\n",
    "\n",
    "pic1_pnl = - sum([trade.price * trade.quantity for trade in pic1_buys]) + sum([trade.price * trade.quantity for trade in pic1_sells])\n",
    "print(f\"Picnic Basket 1 PnL: {pic1_pnl}\")\n",
    "\n",
    "pic2_pnl = - sum([trade.price * trade.quantity for trade in pic2_buys]) + sum([trade.price * trade.quantity for trade in pic2_sells])\n",
    "print(f\"Picnic Basket 2 PnL: {pic2_pnl}\")"
   ]
  },
  {
   "cell_type": "code",
   "execution_count": null,
   "id": "abc84ca5",
   "metadata": {},
   "outputs": [],
   "source": []
  }
 ],
 "metadata": {
  "kernelspec": {
   "display_name": "ml",
   "language": "python",
   "name": "python3"
  },
  "language_info": {
   "codemirror_mode": {
    "name": "ipython",
    "version": 3
   },
   "file_extension": ".py",
   "mimetype": "text/x-python",
   "name": "python",
   "nbconvert_exporter": "python",
   "pygments_lexer": "ipython3",
   "version": "3.12.8"
  }
 },
 "nbformat": 4,
 "nbformat_minor": 5
}
