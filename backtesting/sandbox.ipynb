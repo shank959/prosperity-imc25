{
 "cells": [
  {
   "cell_type": "code",
   "execution_count": null,
   "metadata": {},
   "outputs": [],
   "source": [
    "import pandas as pd\n",
    "\n",
    "# Load CSV using semicolon as delimiter\n",
    "csv_path = '/Users/vasudev/Desktop/Projects/imc_prosperity/prosperity-imc25/14dd98cf-8f50-4c1a-95c1-b23f73685cbf.csv'  # replace with actual path\n",
    "df = pd.read_csv(csv_path, sep=';')\n",
    "\n",
    "# Split into two time series\n",
    "df_resin = df[df['product'] == 'RAINFOREST_RESIN'].copy()\n",
    "df_kelp = df[df['product'] == 'KELP'].copy()\n",
    "\n",
    "# Reset index for convenience\n",
    "df_resin.reset_index(drop=True, inplace=True)\n",
    "df_kelp.reset_index(drop=True, inplace=True)\n",
    "\n",
    "# Optional: check shapes\n",
    "print(\"RAINFOREST_RESIN shape:\", df_resin.shape)\n",
    "print(\"KELP shape:\", df_kelp.shape)\n",
    "\n",
    "# View samples\n",
    "print(df_resin.head())\n",
    "print(df_kelp.head())"
   ]
  },
  {
   "cell_type": "code",
   "execution_count": null,
   "metadata": {
    "vscode": {
     "languageId": "plaintext"
    }
   },
   "outputs": [],
   "source": []
  }
 ],
 "metadata": {
  "language_info": {
   "name": "python"
  }
 },
 "nbformat": 4,
 "nbformat_minor": 2
}
